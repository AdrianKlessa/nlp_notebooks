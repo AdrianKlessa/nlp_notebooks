{
 "cells": [
  {
   "metadata": {},
   "cell_type": "markdown",
   "source": [
    "#### A simple neural language model\n",
    "\n",
    "Trained with PyTorch on public domain books from Project Gutenberg"
   ],
   "id": "4e7f5d3f09790056"
  },
  {
   "metadata": {},
   "cell_type": "markdown",
   "source": "### Loading the data",
   "id": "94f94fd6d58d70b4"
  },
  {
   "metadata": {
    "collapsed": true,
    "ExecuteTime": {
     "end_time": "2025-05-02T15:11:15.884575Z",
     "start_time": "2025-05-02T15:11:14.888237Z"
    }
   },
   "cell_type": "code",
   "source": [
    "from os import listdir\n",
    "from os.path import isfile, join\n",
    "from typing import Sequence\n",
    "import nltk\n",
    "from nltk.lm.preprocessing import pad_both_ends\n",
    "\n",
    "books = [f for f in listdir(\"data/sherlock_holmes\") if isfile(join(\"data/sherlock_holmes\", f))]\n",
    "text = \"\"\n",
    "for book in books:\n",
    "    filepath = \"data/sherlock_holmes/\" + book\n",
    "    with open(filepath, \"r\", encoding=\"utf-8-sig\") as f:\n",
    "        text +=\" \"+ f.read()\n",
    "additional_books = [\"all quiet on the western front.txt\",\"count of monte cristo.txt\", \"war and peace.txt\", \"ulysses.txt\", \"don quixote.txt\"]\n",
    "\n",
    "for book in additional_books:\n",
    "    filepath = \"data/\" + book\n",
    "    with open(filepath, \"r\", encoding=\"utf-8-sig\") as f:\n",
    "        text +=\" \"+ f.read()"
   ],
   "id": "initial_id",
   "outputs": [],
   "execution_count": 1
  },
  {
   "metadata": {},
   "cell_type": "markdown",
   "source": [
    "### Some simple processing\n",
    "\n",
    "All text to lowercase, dividing into sentences, tokenization"
   ],
   "id": "a35a9693f4d159bf"
  },
  {
   "metadata": {
    "ExecuteTime": {
     "end_time": "2025-05-02T15:11:25.971761Z",
     "start_time": "2025-05-02T15:11:15.891749Z"
    }
   },
   "cell_type": "code",
   "source": [
    "text = text.replace(\"\\n\", \" \")\n",
    "text = text.lower()\n",
    "\n",
    "\n",
    "sentences = nltk.sent_tokenize(text)\n",
    "tokenized = []\n",
    "for sentence in sentences:\n",
    "    tokenized.append(nltk.word_tokenize(sentence))\n",
    "padded_tokenized = []\n",
    "\n",
    "for tokenized_sentence in tokenized:\n",
    "    padded_tokenized.append(list(pad_both_ends(tokenized_sentence, n=2)))"
   ],
   "id": "a285c26b8b063ebb",
   "outputs": [],
   "execution_count": 2
  },
  {
   "metadata": {
    "ExecuteTime": {
     "end_time": "2025-05-02T15:11:26.190368Z",
     "start_time": "2025-05-02T15:11:26.186786Z"
    }
   },
   "cell_type": "code",
   "source": "print(padded_tokenized[0])",
   "id": "da6d61220bef1ae",
   "outputs": [
    {
     "name": "stdout",
     "output_type": "stream",
     "text": [
      "['<s>', 'the', 'project', 'gutenberg', 'ebook', 'of', 'a', 'study', 'in', 'scarlet', 'this', 'ebook', 'is', 'for', 'the', 'use', 'of', 'anyone', 'anywhere', 'in', 'the', 'united', 'states', 'and', 'most', 'other', 'parts', 'of', 'the', 'world', 'at', 'no', 'cost', 'and', 'with', 'almost', 'no', 'restrictions', 'whatsoever', '.', '</s>']\n"
     ]
    }
   ],
   "execution_count": 3
  },
  {
   "metadata": {
    "ExecuteTime": {
     "end_time": "2025-05-02T15:11:26.202705Z",
     "start_time": "2025-05-02T15:11:26.196592Z"
    }
   },
   "cell_type": "code",
   "source": "len(padded_tokenized)",
   "id": "cca4d2df203063da",
   "outputs": [
    {
     "data": {
      "text/plain": [
       "112674"
      ]
     },
     "execution_count": 4,
     "metadata": {},
     "output_type": "execute_result"
    }
   ],
   "execution_count": 4
  },
  {
   "metadata": {},
   "cell_type": "markdown",
   "source": "#### Preparing into a x / y format for NN input",
   "id": "1524a645a1347f80"
  },
  {
   "metadata": {
    "ExecuteTime": {
     "end_time": "2025-05-02T15:11:29.339926Z",
     "start_time": "2025-05-02T15:11:26.267438Z"
    }
   },
   "cell_type": "code",
   "source": [
    "import torch\n",
    "import torch.nn as nn\n",
    "import torch.nn.functional as F\n",
    "import torch.optim as optim\n",
    "\n",
    "torch.manual_seed(42)\n",
    "CONTEXT_SIZE = 4\n",
    "EMBEDDING_DIM = 10\n",
    "ngrams = [\n",
    "    (\n",
    "        #(sent[i-2],sent[i-1],sent[i+1], sent[i+2]),\n",
    "        tuple([sent[i-j] for j in range(CONTEXT_SIZE, 0, -1)]),\n",
    "        sent[i]\n",
    "    )\n",
    "    for sent in padded_tokenized for i in range(CONTEXT_SIZE+1, len(sent))\n",
    "]\n",
    "\n",
    "print(ngrams[:7])"
   ],
   "id": "bb7eb77e4fb42e4f",
   "outputs": [
    {
     "name": "stdout",
     "output_type": "stream",
     "text": [
      "[(('the', 'project', 'gutenberg', 'ebook'), 'of'), (('project', 'gutenberg', 'ebook', 'of'), 'a'), (('gutenberg', 'ebook', 'of', 'a'), 'study'), (('ebook', 'of', 'a', 'study'), 'in'), (('of', 'a', 'study', 'in'), 'scarlet'), (('a', 'study', 'in', 'scarlet'), 'this'), (('study', 'in', 'scarlet', 'this'), 'ebook')]\n"
     ]
    }
   ],
   "execution_count": 5
  },
  {
   "metadata": {
    "ExecuteTime": {
     "end_time": "2025-05-02T15:11:29.354403Z",
     "start_time": "2025-05-02T15:11:29.350031Z"
    }
   },
   "cell_type": "code",
   "source": "len(ngrams)",
   "id": "95209118affa5549",
   "outputs": [
    {
     "data": {
      "text/plain": [
       "2635154"
      ]
     },
     "execution_count": 6,
     "metadata": {},
     "output_type": "execute_result"
    }
   ],
   "execution_count": 6
  },
  {
   "metadata": {
    "ExecuteTime": {
     "end_time": "2025-05-02T15:11:30.054462Z",
     "start_time": "2025-05-02T15:11:29.369946Z"
    }
   },
   "cell_type": "code",
   "source": [
    "from sklearn.model_selection import train_test_split\n",
    "train, test = train_test_split(ngrams, shuffle=True)\n",
    "print(len(train), len(test))"
   ],
   "id": "e615a50c7be1c8fe",
   "outputs": [
    {
     "name": "stdout",
     "output_type": "stream",
     "text": [
      "1976365 658789\n"
     ]
    }
   ],
   "execution_count": 7
  },
  {
   "metadata": {},
   "cell_type": "markdown",
   "source": "### Setting up a dictionary for tokenization",
   "id": "ae29964e59f5468d"
  },
  {
   "metadata": {
    "ExecuteTime": {
     "end_time": "2025-05-02T15:11:35.949949Z",
     "start_time": "2025-05-02T15:11:30.060518Z"
    }
   },
   "cell_type": "code",
   "source": [
    "import itertools\n",
    "train_all_words = [x for x in itertools.chain.from_iterable([[example[1]]+[x for x in example[0]] for example in train])]\n",
    "train_vocab = set(train_all_words)\n",
    "print(list(train_vocab)[:5])"
   ],
   "id": "50bdf5cf22dd3c16",
   "outputs": [
    {
     "name": "stdout",
     "output_type": "stream",
     "text": [
      "['des', 'c08c.jpg', 'ironmongery', '20139m', 'capel']\n"
     ]
    }
   ],
   "execution_count": 8
  },
  {
   "metadata": {
    "ExecuteTime": {
     "end_time": "2025-05-02T15:11:37.554976Z",
     "start_time": "2025-05-02T15:11:35.992451Z"
    }
   },
   "cell_type": "code",
   "source": [
    "from torchtext.vocab import build_vocab_from_iterator\n",
    "vocab_size = 20_000\n",
    "vocab = build_vocab_from_iterator([train_all_words], max_tokens=vocab_size, specials = ['<unk>'])\n",
    "vocab.set_default_index(vocab['<unk>'])\n",
    "print(vocab['he'])"
   ],
   "id": "73fb8d27a5e4c31d",
   "outputs": [
    {
     "name": "stdout",
     "output_type": "stream",
     "text": [
      "12\n"
     ]
    }
   ],
   "execution_count": 9
  },
  {
   "metadata": {
    "ExecuteTime": {
     "end_time": "2025-05-02T15:11:37.596498Z",
     "start_time": "2025-05-02T15:11:37.591498Z"
    }
   },
   "cell_type": "code",
   "source": "vocab.lookup_tokens([0, 1, 2, 10,2500, 12345])",
   "id": "656ea17c6d02ef82",
   "outputs": [
    {
     "data": {
      "text/plain": [
       "['<unk>', ',', 'the', 'that', 'falls', 'pegs']"
      ]
     },
     "execution_count": 10,
     "metadata": {},
     "output_type": "execute_result"
    }
   ],
   "execution_count": 10
  },
  {
   "metadata": {
    "ExecuteTime": {
     "end_time": "2025-05-02T15:11:44.397411Z",
     "start_time": "2025-05-02T15:11:37.636507Z"
    }
   },
   "cell_type": "code",
   "source": [
    "train_tokenized = []\n",
    "\n",
    "for example in train:\n",
    "    x = tuple([vocab[x] for x in example[0]])\n",
    "    y = vocab[example[1]]\n",
    "    train_tokenized.append((x, y))\n",
    "\n",
    "print(vocab.lookup_tokens(train_tokenized[1][0]))"
   ],
   "id": "8f009e5c85ad148",
   "outputs": [
    {
     "name": "stdout",
     "output_type": "stream",
     "text": [
      "['still', ',', 'it', 'is']\n"
     ]
    }
   ],
   "execution_count": 11
  },
  {
   "metadata": {
    "ExecuteTime": {
     "end_time": "2025-05-02T15:11:44.437988Z",
     "start_time": "2025-05-02T15:11:44.434099Z"
    }
   },
   "cell_type": "code",
   "source": "print(vocab.lookup_token(train_tokenized[1][1]))",
   "id": "3c7fb779b00d815c",
   "outputs": [
    {
     "name": "stdout",
     "output_type": "stream",
     "text": [
      "better\n"
     ]
    }
   ],
   "execution_count": 12
  },
  {
   "metadata": {
    "ExecuteTime": {
     "end_time": "2025-05-02T15:11:44.482809Z",
     "start_time": "2025-05-02T15:11:44.478727Z"
    }
   },
   "cell_type": "code",
   "source": [
    "from torch.utils.data import IterableDataset\n",
    "\n",
    "class CustomDataset(IterableDataset):\n",
    "  def __init__(self, example_list):\n",
    "      self.example_list = example_list\n",
    "\n",
    "  def __iter__(self):\n",
    "     return iter(self.example_list)\n",
    "\n",
    "  def __getitem__(self, index):\n",
    "      return self.example_list[index]\n",
    "\n",
    "  def __len__(self):\n",
    "      return len(self.example_list)\n",
    "\n",
    "train_dataset = CustomDataset(train_tokenized)"
   ],
   "id": "7f0f6b5b5108358a",
   "outputs": [],
   "execution_count": 13
  },
  {
   "metadata": {
    "ExecuteTime": {
     "end_time": "2025-05-02T15:11:46.787722Z",
     "start_time": "2025-05-02T15:11:44.520578Z"
    }
   },
   "cell_type": "code",
   "source": [
    "valid_tokenized = []\n",
    "\n",
    "for example in test:\n",
    "    x = tuple([vocab[x] for x in example[0]])\n",
    "    y = vocab[example[1]]\n",
    "    valid_tokenized.append((x, y))\n",
    "\n",
    "valid_dataset = CustomDataset(valid_tokenized)"
   ],
   "id": "b13c9a63eba15657",
   "outputs": [],
   "execution_count": 14
  },
  {
   "metadata": {
    "ExecuteTime": {
     "end_time": "2025-05-02T16:23:12.635899Z",
     "start_time": "2025-05-02T16:23:12.633245Z"
    }
   },
   "cell_type": "code",
   "source": [
    "res = next(iter(train_dataset))\n",
    "print(res)"
   ],
   "id": "d4328578f0a36f08",
   "outputs": [
    {
     "name": "stdout",
     "output_type": "stream",
     "text": [
      "((124, 10245, 303, 18), 8)\n"
     ]
    }
   ],
   "execution_count": 36
  },
  {
   "metadata": {
    "ExecuteTime": {
     "end_time": "2025-05-02T16:23:31.413946Z",
     "start_time": "2025-05-02T16:23:31.410721Z"
    }
   },
   "cell_type": "code",
   "source": "vocab.lookup_tokens([i for i in res[0]])",
   "id": "e45235c0612c5e1b",
   "outputs": [
    {
     "data": {
      "text/plain": [
       "['old', 'dan', 'o', '’']"
      ]
     },
     "execution_count": 37,
     "metadata": {},
     "output_type": "execute_result"
    }
   ],
   "execution_count": 37
  },
  {
   "metadata": {
    "ExecuteTime": {
     "end_time": "2025-05-02T16:23:52.281571Z",
     "start_time": "2025-05-02T16:23:52.276252Z"
    }
   },
   "cell_type": "code",
   "source": [
    "from torch.utils.data import DataLoader\n",
    "\n",
    "def custom_collate(batch):\n",
    "    contexts, targets = zip(*batch)\n",
    "    return torch.tensor(contexts), torch.tensor(targets)\n",
    "\n",
    "res = next(iter(DataLoader(train_dataset, batch_size=5, collate_fn=custom_collate)))\n",
    "print(res)"
   ],
   "id": "3ab9d17823e89848",
   "outputs": [
    {
     "name": "stdout",
     "output_type": "stream",
     "text": [
      "(tensor([[  124, 10245,   303,    18],\n",
      "        [  152,     1,    15,    22],\n",
      "        [   53,     6,    49,     1],\n",
      "        [  300,     3,    11,    57],\n",
      "        [   72,     1,   399,     2]]), tensor([  8, 290,   3,  23, 221]))\n"
     ]
    }
   ],
   "execution_count": 39
  },
  {
   "metadata": {
    "ExecuteTime": {
     "end_time": "2025-05-02T16:25:18.769716Z",
     "start_time": "2025-05-02T16:25:18.759697Z"
    }
   },
   "cell_type": "code",
   "source": [
    "for i in res[0]:\n",
    "    print(vocab.lookup_tokens(i.tolist()))"
   ],
   "id": "7910ea15a62768e1",
   "outputs": [
    {
     "name": "stdout",
     "output_type": "stream",
     "text": [
      "['old', 'dan', 'o', '’']\n",
      "['still', ',', 'it', 'is']\n",
      "['are', 'a', 'she', ',']\n",
      "['watson', 'and', 'i', 'will']\n",
      "['more', ',', 'during', 'the']\n"
     ]
    }
   ],
   "execution_count": 42
  },
  {
   "metadata": {
    "ExecuteTime": {
     "end_time": "2025-05-02T16:25:34.342588Z",
     "start_time": "2025-05-02T16:25:34.339263Z"
    }
   },
   "cell_type": "code",
   "source": "print(vocab.lookup_tokens(res[1].tolist()))",
   "id": "e04b6e568bbb862c",
   "outputs": [
    {
     "name": "stdout",
     "output_type": "stream",
     "text": [
      "['.', 'better', 'and', 'not', 'whole']\n"
     ]
    }
   ],
   "execution_count": 43
  },
  {
   "metadata": {},
   "cell_type": "markdown",
   "source": "### Defining the model",
   "id": "70544c52c318287c"
  },
  {
   "metadata": {
    "ExecuteTime": {
     "end_time": "2025-05-02T15:11:47.046081Z",
     "start_time": "2025-05-02T15:11:47.041562Z"
    }
   },
   "cell_type": "code",
   "source": [
    "from torch import nn\n",
    "import torch\n",
    "import torch.nn.functional as F\n",
    "\n",
    "embed_size = 100\n",
    "\n",
    "class SimpleNeuralLM(nn.Module):\n",
    "  def __init__(self, vocabulary_size, embedding_size, context_size):\n",
    "      super(SimpleNeuralLM, self).__init__()\n",
    "      self.token_embedding = nn.Embedding(vocabulary_size, embedding_size)\n",
    "      self.positional_embedding = nn.Embedding(context_size, embedding_size)\n",
    "      self.linear1 = nn.Linear(embedding_size, 2048)\n",
    "      self.linear2 = nn.Linear(2048, vocabulary_size)\n",
    "      self.register_buffer('position_ids', torch.arange(context_size).unsqueeze(0))\n",
    "\n",
    "  def forward(self, x):\n",
    "      token_embeddings = self.token_embedding(x)\n",
    "      position_embeddings = self.positional_embedding(self.position_ids)\n",
    "      x = token_embeddings + position_embeddings\n",
    "      x = x.mean(dim=1)\n",
    "      x = self.linear1(x)\n",
    "      x = F.relu(x)\n",
    "      x = self.linear2(x)\n",
    "      return F.log_softmax(x, dim=1)"
   ],
   "id": "127b3e0b8350e488",
   "outputs": [],
   "execution_count": 20
  },
  {
   "metadata": {},
   "cell_type": "markdown",
   "source": "### Making sure that we can train on GPU",
   "id": "86c953391bfa561a"
  },
  {
   "metadata": {
    "ExecuteTime": {
     "end_time": "2025-05-02T15:11:47.112915Z",
     "start_time": "2025-05-02T15:11:47.086437Z"
    }
   },
   "cell_type": "code",
   "source": [
    "print(torch.__version__)\n",
    "print(torch.cuda.is_available())"
   ],
   "id": "be2ada6a272c544b",
   "outputs": [
    {
     "name": "stdout",
     "output_type": "stream",
     "text": [
      "2.2.2+cu118\n",
      "True\n"
     ]
    }
   ],
   "execution_count": 21
  },
  {
   "metadata": {
    "ExecuteTime": {
     "end_time": "2025-05-02T15:11:47.549809Z",
     "start_time": "2025-05-02T15:11:47.148394Z"
    }
   },
   "cell_type": "code",
   "source": [
    "device = 'cuda'\n",
    "model = SimpleNeuralLM(vocab_size, embed_size, CONTEXT_SIZE).to(device)\n",
    "print(model(torch.tensor([[156, 7426, 1, 39]]).to(device)))"
   ],
   "id": "b85a4f98379b701e",
   "outputs": [
    {
     "name": "stdout",
     "output_type": "stream",
     "text": [
      "tensor([[-10.0415, -10.1239, -10.2178,  ..., -10.0119,  -9.9341,  -9.7336]],\n",
      "       device='cuda:0', grad_fn=<LogSoftmaxBackward0>)\n"
     ]
    }
   ],
   "execution_count": 22
  },
  {
   "metadata": {
    "ExecuteTime": {
     "end_time": "2025-05-02T15:11:47.596441Z",
     "start_time": "2025-05-02T15:11:47.591439Z"
    }
   },
   "cell_type": "code",
   "source": [
    "# Number of parameters https://stackoverflow.com/a/49201237\n",
    "sum(p.numel() for p in model.parameters() if p.requires_grad)"
   ],
   "id": "77a0861bbe9b3be9",
   "outputs": [
    {
     "data": {
      "text/plain": [
       "43187248"
      ]
     },
     "execution_count": 23,
     "metadata": {},
     "output_type": "execute_result"
    }
   ],
   "execution_count": 23
  },
  {
   "metadata": {},
   "cell_type": "markdown",
   "source": "### Training loop",
   "id": "8d82442b3fab6c6b"
  },
  {
   "metadata": {
    "ExecuteTime": {
     "end_time": "2025-05-02T16:03:29.250486Z",
     "start_time": "2025-05-02T15:11:47.640081Z"
    }
   },
   "cell_type": "code",
   "source": [
    "model = SimpleNeuralLM(vocab_size, embed_size, CONTEXT_SIZE).to(device)\n",
    "train_dataloader = DataLoader(train_dataset, batch_size=5000, collate_fn=custom_collate)\n",
    "valid_dataloader = DataLoader(valid_dataset, batch_size=5000, collate_fn=custom_collate)\n",
    "optimizer = torch.optim.Adam(model.parameters(), lr=1e-4, weight_decay=1e-5)\n",
    "loss_fn = torch.nn.NLLLoss()\n",
    "\n",
    "MAX_EPOCH_NUMBER = 50\n",
    "PATIENCE = 3\n",
    "patience_counter = 0\n",
    "best_val_loss = float('inf')\n",
    "step = 0\n",
    "\n",
    "train_losses = []\n",
    "valid_losses = []\n",
    "\n",
    "for epoch in range(MAX_EPOCH_NUMBER):\n",
    "    model.train()\n",
    "    epoch_loss = 0.0\n",
    "    for x, y in train_dataloader:\n",
    "        x = x.to(device)\n",
    "        y = y.to(device)\n",
    "        optimizer.zero_grad()\n",
    "        y_hat = model(x)\n",
    "        loss = loss_fn(y_hat,y)\n",
    "        if step % 100 == 0:\n",
    "           print(step, loss)\n",
    "        step += 1\n",
    "        loss.backward()\n",
    "        optimizer.step()\n",
    "        epoch_loss += loss.item()\n",
    "        if step % 100 == 0:\n",
    "            print(f\"[Train] Step {step}, Loss: {loss.item():.4f}\")\n",
    "        step += 1\n",
    "    avg_train_loss = epoch_loss / len(train_dataloader)\n",
    "    train_losses.append(avg_train_loss)\n",
    "    model.eval()\n",
    "    val_loss = 0.0\n",
    "    with torch.no_grad():\n",
    "        for x_val, y_val in valid_dataloader:\n",
    "            x_val = x_val.to(device)\n",
    "            y_val = y_val.to(device)\n",
    "            y_val_hat = model(x_val)\n",
    "            loss = loss_fn(y_val_hat, y_val)\n",
    "            val_loss += loss.item()\n",
    "\n",
    "    avg_val_loss = val_loss / len(valid_dataloader)\n",
    "    valid_losses.append(avg_val_loss)\n",
    "    print(f\"Epoch {epoch}: Train Loss = {avg_train_loss:.4f}, Val Loss = {avg_val_loss:.4f}\")\n",
    "        # Early Stopping Check\n",
    "    if avg_val_loss < best_val_loss:\n",
    "        print(\"Validation loss improved. Saving model...\")\n",
    "        best_val_loss = avg_val_loss\n",
    "        patience_counter = 0\n",
    "        torch.save(model.state_dict(), 'model_best.bin')\n",
    "    else:\n",
    "        patience_counter += 1\n",
    "        print(f\"No improvement. Patience {patience_counter}/{PATIENCE}\")\n",
    "        if patience_counter >= PATIENCE:\n",
    "            print(\"Early stopping triggered.\")\n",
    "            break"
   ],
   "id": "8ee150b6d26faae3",
   "outputs": [
    {
     "name": "stdout",
     "output_type": "stream",
     "text": [
      "0 tensor(9.9167, device='cuda:0', grad_fn=<NllLossBackward0>)\n",
      "100 tensor(6.8878, device='cuda:0', grad_fn=<NllLossBackward0>)\n",
      "200 tensor(6.1121, device='cuda:0', grad_fn=<NllLossBackward0>)\n",
      "300 tensor(6.0450, device='cuda:0', grad_fn=<NllLossBackward0>)\n",
      "400 tensor(5.9636, device='cuda:0', grad_fn=<NllLossBackward0>)\n",
      "500 tensor(5.9188, device='cuda:0', grad_fn=<NllLossBackward0>)\n",
      "600 tensor(5.8459, device='cuda:0', grad_fn=<NllLossBackward0>)\n",
      "700 tensor(5.7657, device='cuda:0', grad_fn=<NllLossBackward0>)\n",
      "Epoch 0: Train Loss = 6.3098, Val Loss = 5.7884\n",
      "Validation loss improved. Saving model...\n",
      "800 tensor(5.7384, device='cuda:0', grad_fn=<NllLossBackward0>)\n",
      "900 tensor(5.7777, device='cuda:0', grad_fn=<NllLossBackward0>)\n",
      "1000 tensor(5.7878, device='cuda:0', grad_fn=<NllLossBackward0>)\n",
      "1100 tensor(5.6963, device='cuda:0', grad_fn=<NllLossBackward0>)\n",
      "1200 tensor(5.6560, device='cuda:0', grad_fn=<NllLossBackward0>)\n",
      "1300 tensor(5.6542, device='cuda:0', grad_fn=<NllLossBackward0>)\n",
      "1400 tensor(5.6519, device='cuda:0', grad_fn=<NllLossBackward0>)\n",
      "1500 tensor(5.7068, device='cuda:0', grad_fn=<NllLossBackward0>)\n",
      "Epoch 1: Train Loss = 5.6855, Val Loss = 5.6547\n",
      "Validation loss improved. Saving model...\n",
      "1600 tensor(5.5302, device='cuda:0', grad_fn=<NllLossBackward0>)\n",
      "1700 tensor(5.5673, device='cuda:0', grad_fn=<NllLossBackward0>)\n",
      "1800 tensor(5.6181, device='cuda:0', grad_fn=<NllLossBackward0>)\n",
      "1900 tensor(5.5684, device='cuda:0', grad_fn=<NllLossBackward0>)\n",
      "2000 tensor(5.5787, device='cuda:0', grad_fn=<NllLossBackward0>)\n",
      "2100 tensor(5.5101, device='cuda:0', grad_fn=<NllLossBackward0>)\n",
      "2200 tensor(5.5791, device='cuda:0', grad_fn=<NllLossBackward0>)\n",
      "2300 tensor(5.5559, device='cuda:0', grad_fn=<NllLossBackward0>)\n",
      "Epoch 2: Train Loss = 5.5637, Val Loss = 5.5869\n",
      "Validation loss improved. Saving model...\n",
      "2400 tensor(5.5180, device='cuda:0', grad_fn=<NllLossBackward0>)\n",
      "2500 tensor(5.5253, device='cuda:0', grad_fn=<NllLossBackward0>)\n",
      "2600 tensor(5.5112, device='cuda:0', grad_fn=<NllLossBackward0>)\n",
      "2700 tensor(5.5365, device='cuda:0', grad_fn=<NllLossBackward0>)\n",
      "2800 tensor(5.5126, device='cuda:0', grad_fn=<NllLossBackward0>)\n",
      "2900 tensor(5.4779, device='cuda:0', grad_fn=<NllLossBackward0>)\n",
      "3000 tensor(5.5451, device='cuda:0', grad_fn=<NllLossBackward0>)\n",
      "3100 tensor(5.5710, device='cuda:0', grad_fn=<NllLossBackward0>)\n",
      "Epoch 3: Train Loss = 5.4832, Val Loss = 5.5405\n",
      "Validation loss improved. Saving model...\n",
      "3200 tensor(5.3516, device='cuda:0', grad_fn=<NllLossBackward0>)\n",
      "3300 tensor(5.4140, device='cuda:0', grad_fn=<NllLossBackward0>)\n",
      "3400 tensor(5.5063, device='cuda:0', grad_fn=<NllLossBackward0>)\n",
      "3500 tensor(5.4287, device='cuda:0', grad_fn=<NllLossBackward0>)\n",
      "3600 tensor(5.4251, device='cuda:0', grad_fn=<NllLossBackward0>)\n",
      "3700 tensor(5.4369, device='cuda:0', grad_fn=<NllLossBackward0>)\n",
      "3800 tensor(5.3501, device='cuda:0', grad_fn=<NllLossBackward0>)\n",
      "3900 tensor(5.4025, device='cuda:0', grad_fn=<NllLossBackward0>)\n",
      "Epoch 4: Train Loss = 5.4199, Val Loss = 5.5047\n",
      "Validation loss improved. Saving model...\n",
      "4000 tensor(5.3511, device='cuda:0', grad_fn=<NllLossBackward0>)\n",
      "4100 tensor(5.4117, device='cuda:0', grad_fn=<NllLossBackward0>)\n",
      "4200 tensor(5.4796, device='cuda:0', grad_fn=<NllLossBackward0>)\n",
      "4300 tensor(5.4309, device='cuda:0', grad_fn=<NllLossBackward0>)\n",
      "4400 tensor(5.4122, device='cuda:0', grad_fn=<NllLossBackward0>)\n",
      "4500 tensor(5.3520, device='cuda:0', grad_fn=<NllLossBackward0>)\n",
      "4600 tensor(5.3141, device='cuda:0', grad_fn=<NllLossBackward0>)\n",
      "4700 tensor(5.3916, device='cuda:0', grad_fn=<NllLossBackward0>)\n",
      "Epoch 5: Train Loss = 5.3666, Val Loss = 5.4753\n",
      "Validation loss improved. Saving model...\n",
      "4800 tensor(5.2810, device='cuda:0', grad_fn=<NllLossBackward0>)\n",
      "4900 tensor(5.3645, device='cuda:0', grad_fn=<NllLossBackward0>)\n",
      "5000 tensor(5.2126, device='cuda:0', grad_fn=<NllLossBackward0>)\n",
      "5100 tensor(5.3391, device='cuda:0', grad_fn=<NllLossBackward0>)\n",
      "5200 tensor(5.2844, device='cuda:0', grad_fn=<NllLossBackward0>)\n",
      "5300 tensor(5.3342, device='cuda:0', grad_fn=<NllLossBackward0>)\n",
      "5400 tensor(5.2865, device='cuda:0', grad_fn=<NllLossBackward0>)\n",
      "5500 tensor(5.2803, device='cuda:0', grad_fn=<NllLossBackward0>)\n",
      "Epoch 6: Train Loss = 5.3200, Val Loss = 5.4502\n",
      "Validation loss improved. Saving model...\n",
      "5600 tensor(5.2464, device='cuda:0', grad_fn=<NllLossBackward0>)\n",
      "5700 tensor(5.2589, device='cuda:0', grad_fn=<NllLossBackward0>)\n",
      "5800 tensor(5.3017, device='cuda:0', grad_fn=<NllLossBackward0>)\n",
      "5900 tensor(5.2679, device='cuda:0', grad_fn=<NllLossBackward0>)\n",
      "6000 tensor(5.3496, device='cuda:0', grad_fn=<NllLossBackward0>)\n",
      "6100 tensor(5.3489, device='cuda:0', grad_fn=<NllLossBackward0>)\n",
      "6200 tensor(5.2470, device='cuda:0', grad_fn=<NllLossBackward0>)\n",
      "6300 tensor(5.3076, device='cuda:0', grad_fn=<NllLossBackward0>)\n",
      "Epoch 7: Train Loss = 5.2783, Val Loss = 5.4284\n",
      "Validation loss improved. Saving model...\n",
      "6400 tensor(5.2547, device='cuda:0', grad_fn=<NllLossBackward0>)\n",
      "6500 tensor(5.1841, device='cuda:0', grad_fn=<NllLossBackward0>)\n",
      "6600 tensor(5.3117, device='cuda:0', grad_fn=<NllLossBackward0>)\n",
      "6700 tensor(5.2492, device='cuda:0', grad_fn=<NllLossBackward0>)\n",
      "6800 tensor(5.2392, device='cuda:0', grad_fn=<NllLossBackward0>)\n",
      "6900 tensor(5.2326, device='cuda:0', grad_fn=<NllLossBackward0>)\n",
      "7000 tensor(5.2169, device='cuda:0', grad_fn=<NllLossBackward0>)\n",
      "7100 tensor(5.2047, device='cuda:0', grad_fn=<NllLossBackward0>)\n",
      "Epoch 8: Train Loss = 5.2403, Val Loss = 5.4091\n",
      "Validation loss improved. Saving model...\n",
      "7200 tensor(5.1877, device='cuda:0', grad_fn=<NllLossBackward0>)\n",
      "7300 tensor(5.2014, device='cuda:0', grad_fn=<NllLossBackward0>)\n",
      "7400 tensor(5.1866, device='cuda:0', grad_fn=<NllLossBackward0>)\n",
      "7500 tensor(5.1788, device='cuda:0', grad_fn=<NllLossBackward0>)\n",
      "7600 tensor(5.2695, device='cuda:0', grad_fn=<NllLossBackward0>)\n",
      "7700 tensor(5.1699, device='cuda:0', grad_fn=<NllLossBackward0>)\n",
      "7800 tensor(5.3141, device='cuda:0', grad_fn=<NllLossBackward0>)\n",
      "7900 tensor(5.1712, device='cuda:0', grad_fn=<NllLossBackward0>)\n",
      "Epoch 9: Train Loss = 5.2055, Val Loss = 5.3918\n",
      "Validation loss improved. Saving model...\n",
      "8000 tensor(5.2005, device='cuda:0', grad_fn=<NllLossBackward0>)\n",
      "8100 tensor(5.1368, device='cuda:0', grad_fn=<NllLossBackward0>)\n",
      "8200 tensor(5.1618, device='cuda:0', grad_fn=<NllLossBackward0>)\n",
      "8300 tensor(5.1967, device='cuda:0', grad_fn=<NllLossBackward0>)\n",
      "8400 tensor(5.1816, device='cuda:0', grad_fn=<NllLossBackward0>)\n",
      "8500 tensor(5.2214, device='cuda:0', grad_fn=<NllLossBackward0>)\n",
      "8600 tensor(5.1804, device='cuda:0', grad_fn=<NllLossBackward0>)\n",
      "8700 tensor(5.1473, device='cuda:0', grad_fn=<NllLossBackward0>)\n",
      "Epoch 10: Train Loss = 5.1732, Val Loss = 5.3759\n",
      "Validation loss improved. Saving model...\n",
      "8800 tensor(5.1973, device='cuda:0', grad_fn=<NllLossBackward0>)\n",
      "8900 tensor(5.1549, device='cuda:0', grad_fn=<NllLossBackward0>)\n",
      "9000 tensor(5.1957, device='cuda:0', grad_fn=<NllLossBackward0>)\n",
      "9100 tensor(5.1944, device='cuda:0', grad_fn=<NllLossBackward0>)\n",
      "9200 tensor(5.1987, device='cuda:0', grad_fn=<NllLossBackward0>)\n",
      "9300 tensor(5.1094, device='cuda:0', grad_fn=<NllLossBackward0>)\n",
      "9400 tensor(5.1310, device='cuda:0', grad_fn=<NllLossBackward0>)\n",
      "9500 tensor(5.1932, device='cuda:0', grad_fn=<NllLossBackward0>)\n",
      "Epoch 11: Train Loss = 5.1430, Val Loss = 5.3614\n",
      "Validation loss improved. Saving model...\n",
      "9600 tensor(5.1203, device='cuda:0', grad_fn=<NllLossBackward0>)\n",
      "9700 tensor(5.1014, device='cuda:0', grad_fn=<NllLossBackward0>)\n",
      "9800 tensor(5.1689, device='cuda:0', grad_fn=<NllLossBackward0>)\n",
      "9900 tensor(5.1764, device='cuda:0', grad_fn=<NllLossBackward0>)\n",
      "10000 tensor(5.1198, device='cuda:0', grad_fn=<NllLossBackward0>)\n",
      "10100 tensor(5.0895, device='cuda:0', grad_fn=<NllLossBackward0>)\n",
      "10200 tensor(5.1539, device='cuda:0', grad_fn=<NllLossBackward0>)\n",
      "Epoch 12: Train Loss = 5.1145, Val Loss = 5.3479\n",
      "Validation loss improved. Saving model...\n",
      "10300 tensor(5.1174, device='cuda:0', grad_fn=<NllLossBackward0>)\n",
      "10400 tensor(5.0470, device='cuda:0', grad_fn=<NllLossBackward0>)\n",
      "10500 tensor(5.0807, device='cuda:0', grad_fn=<NllLossBackward0>)\n",
      "10600 tensor(5.0856, device='cuda:0', grad_fn=<NllLossBackward0>)\n",
      "10700 tensor(5.0269, device='cuda:0', grad_fn=<NllLossBackward0>)\n",
      "10800 tensor(5.0364, device='cuda:0', grad_fn=<NllLossBackward0>)\n",
      "10900 tensor(5.0675, device='cuda:0', grad_fn=<NllLossBackward0>)\n",
      "11000 tensor(5.1290, device='cuda:0', grad_fn=<NllLossBackward0>)\n",
      "Epoch 13: Train Loss = 5.0876, Val Loss = 5.3352\n",
      "Validation loss improved. Saving model...\n",
      "11100 tensor(5.0850, device='cuda:0', grad_fn=<NllLossBackward0>)\n",
      "11200 tensor(5.0863, device='cuda:0', grad_fn=<NllLossBackward0>)\n",
      "11300 tensor(5.0996, device='cuda:0', grad_fn=<NllLossBackward0>)\n",
      "11400 tensor(5.0741, device='cuda:0', grad_fn=<NllLossBackward0>)\n",
      "11500 tensor(5.0510, device='cuda:0', grad_fn=<NllLossBackward0>)\n",
      "11600 tensor(5.0932, device='cuda:0', grad_fn=<NllLossBackward0>)\n",
      "11700 tensor(5.0110, device='cuda:0', grad_fn=<NllLossBackward0>)\n",
      "11800 tensor(5.0232, device='cuda:0', grad_fn=<NllLossBackward0>)\n",
      "Epoch 14: Train Loss = 5.0621, Val Loss = 5.3234\n",
      "Validation loss improved. Saving model...\n",
      "11900 tensor(5.0683, device='cuda:0', grad_fn=<NllLossBackward0>)\n",
      "12000 tensor(5.0736, device='cuda:0', grad_fn=<NllLossBackward0>)\n",
      "12100 tensor(5.0688, device='cuda:0', grad_fn=<NllLossBackward0>)\n",
      "12200 tensor(5.0297, device='cuda:0', grad_fn=<NllLossBackward0>)\n",
      "12300 tensor(5.0385, device='cuda:0', grad_fn=<NllLossBackward0>)\n",
      "12400 tensor(5.0427, device='cuda:0', grad_fn=<NllLossBackward0>)\n",
      "12500 tensor(5.0626, device='cuda:0', grad_fn=<NllLossBackward0>)\n",
      "12600 tensor(5.0944, device='cuda:0', grad_fn=<NllLossBackward0>)\n",
      "Epoch 15: Train Loss = 5.0378, Val Loss = 5.3122\n",
      "Validation loss improved. Saving model...\n",
      "12700 tensor(4.9781, device='cuda:0', grad_fn=<NllLossBackward0>)\n",
      "12800 tensor(4.9485, device='cuda:0', grad_fn=<NllLossBackward0>)\n",
      "12900 tensor(4.9234, device='cuda:0', grad_fn=<NllLossBackward0>)\n",
      "13000 tensor(4.9798, device='cuda:0', grad_fn=<NllLossBackward0>)\n",
      "13100 tensor(5.0150, device='cuda:0', grad_fn=<NllLossBackward0>)\n",
      "13200 tensor(4.9875, device='cuda:0', grad_fn=<NllLossBackward0>)\n",
      "13300 tensor(5.0623, device='cuda:0', grad_fn=<NllLossBackward0>)\n",
      "13400 tensor(5.0423, device='cuda:0', grad_fn=<NllLossBackward0>)\n",
      "Epoch 16: Train Loss = 5.0146, Val Loss = 5.3016\n",
      "Validation loss improved. Saving model...\n",
      "13500 tensor(4.9737, device='cuda:0', grad_fn=<NllLossBackward0>)\n",
      "13600 tensor(4.9619, device='cuda:0', grad_fn=<NllLossBackward0>)\n",
      "13700 tensor(5.0088, device='cuda:0', grad_fn=<NllLossBackward0>)\n",
      "13800 tensor(4.9950, device='cuda:0', grad_fn=<NllLossBackward0>)\n",
      "13900 tensor(5.0368, device='cuda:0', grad_fn=<NllLossBackward0>)\n",
      "14000 tensor(5.0214, device='cuda:0', grad_fn=<NllLossBackward0>)\n",
      "14100 tensor(5.0321, device='cuda:0', grad_fn=<NllLossBackward0>)\n",
      "14200 tensor(5.0022, device='cuda:0', grad_fn=<NllLossBackward0>)\n",
      "Epoch 17: Train Loss = 4.9923, Val Loss = 5.2915\n",
      "Validation loss improved. Saving model...\n",
      "14300 tensor(5.0010, device='cuda:0', grad_fn=<NllLossBackward0>)\n",
      "14400 tensor(5.0028, device='cuda:0', grad_fn=<NllLossBackward0>)\n",
      "14500 tensor(4.9184, device='cuda:0', grad_fn=<NllLossBackward0>)\n",
      "14600 tensor(4.8859, device='cuda:0', grad_fn=<NllLossBackward0>)\n",
      "14700 tensor(4.9345, device='cuda:0', grad_fn=<NllLossBackward0>)\n",
      "14800 tensor(4.9250, device='cuda:0', grad_fn=<NllLossBackward0>)\n",
      "14900 tensor(4.9693, device='cuda:0', grad_fn=<NllLossBackward0>)\n",
      "15000 tensor(4.9511, device='cuda:0', grad_fn=<NllLossBackward0>)\n",
      "Epoch 18: Train Loss = 4.9709, Val Loss = 5.2819\n",
      "Validation loss improved. Saving model...\n",
      "15100 tensor(4.9667, device='cuda:0', grad_fn=<NllLossBackward0>)\n",
      "15200 tensor(4.9648, device='cuda:0', grad_fn=<NllLossBackward0>)\n",
      "15300 tensor(4.9835, device='cuda:0', grad_fn=<NllLossBackward0>)\n",
      "15400 tensor(4.8803, device='cuda:0', grad_fn=<NllLossBackward0>)\n",
      "15500 tensor(4.9572, device='cuda:0', grad_fn=<NllLossBackward0>)\n",
      "15600 tensor(4.9730, device='cuda:0', grad_fn=<NllLossBackward0>)\n",
      "15700 tensor(4.9812, device='cuda:0', grad_fn=<NllLossBackward0>)\n",
      "15800 tensor(4.9290, device='cuda:0', grad_fn=<NllLossBackward0>)\n",
      "Epoch 19: Train Loss = 4.9503, Val Loss = 5.2727\n",
      "Validation loss improved. Saving model...\n",
      "15900 tensor(4.9297, device='cuda:0', grad_fn=<NllLossBackward0>)\n",
      "16000 tensor(4.9785, device='cuda:0', grad_fn=<NllLossBackward0>)\n",
      "16100 tensor(4.9198, device='cuda:0', grad_fn=<NllLossBackward0>)\n",
      "16200 tensor(4.9249, device='cuda:0', grad_fn=<NllLossBackward0>)\n",
      "16300 tensor(4.8915, device='cuda:0', grad_fn=<NllLossBackward0>)\n",
      "16400 tensor(4.9175, device='cuda:0', grad_fn=<NllLossBackward0>)\n",
      "16500 tensor(4.9344, device='cuda:0', grad_fn=<NllLossBackward0>)\n",
      "16600 tensor(4.9300, device='cuda:0', grad_fn=<NllLossBackward0>)\n",
      "Epoch 20: Train Loss = 4.9305, Val Loss = 5.2640\n",
      "Validation loss improved. Saving model...\n",
      "16700 tensor(4.9075, device='cuda:0', grad_fn=<NllLossBackward0>)\n",
      "16800 tensor(4.9368, device='cuda:0', grad_fn=<NllLossBackward0>)\n",
      "16900 tensor(4.9490, device='cuda:0', grad_fn=<NllLossBackward0>)\n",
      "17000 tensor(4.9245, device='cuda:0', grad_fn=<NllLossBackward0>)\n",
      "17100 tensor(4.7990, device='cuda:0', grad_fn=<NllLossBackward0>)\n",
      "17200 tensor(4.9038, device='cuda:0', grad_fn=<NllLossBackward0>)\n",
      "17300 tensor(4.9370, device='cuda:0', grad_fn=<NllLossBackward0>)\n",
      "17400 tensor(4.8798, device='cuda:0', grad_fn=<NllLossBackward0>)\n",
      "Epoch 21: Train Loss = 4.9112, Val Loss = 5.2555\n",
      "Validation loss improved. Saving model...\n",
      "17500 tensor(4.8911, device='cuda:0', grad_fn=<NllLossBackward0>)\n",
      "17600 tensor(4.8496, device='cuda:0', grad_fn=<NllLossBackward0>)\n",
      "17700 tensor(4.8951, device='cuda:0', grad_fn=<NllLossBackward0>)\n",
      "17800 tensor(4.9305, device='cuda:0', grad_fn=<NllLossBackward0>)\n",
      "17900 tensor(4.8679, device='cuda:0', grad_fn=<NllLossBackward0>)\n",
      "18000 tensor(4.9390, device='cuda:0', grad_fn=<NllLossBackward0>)\n",
      "18100 tensor(4.9162, device='cuda:0', grad_fn=<NllLossBackward0>)\n",
      "18200 tensor(4.8664, device='cuda:0', grad_fn=<NllLossBackward0>)\n",
      "Epoch 22: Train Loss = 4.8926, Val Loss = 5.2475\n",
      "Validation loss improved. Saving model...\n",
      "18300 tensor(4.9063, device='cuda:0', grad_fn=<NllLossBackward0>)\n",
      "18400 tensor(4.8666, device='cuda:0', grad_fn=<NllLossBackward0>)\n",
      "18500 tensor(4.8301, device='cuda:0', grad_fn=<NllLossBackward0>)\n",
      "18600 tensor(4.8513, device='cuda:0', grad_fn=<NllLossBackward0>)\n",
      "18700 tensor(4.8545, device='cuda:0', grad_fn=<NllLossBackward0>)\n",
      "18800 tensor(4.8840, device='cuda:0', grad_fn=<NllLossBackward0>)\n",
      "18900 tensor(4.8800, device='cuda:0', grad_fn=<NllLossBackward0>)\n",
      "19000 tensor(4.8736, device='cuda:0', grad_fn=<NllLossBackward0>)\n",
      "Epoch 23: Train Loss = 4.8746, Val Loss = 5.2397\n",
      "Validation loss improved. Saving model...\n",
      "19100 tensor(4.8107, device='cuda:0', grad_fn=<NllLossBackward0>)\n",
      "19200 tensor(4.8140, device='cuda:0', grad_fn=<NllLossBackward0>)\n",
      "19300 tensor(4.8732, device='cuda:0', grad_fn=<NllLossBackward0>)\n",
      "19400 tensor(4.7850, device='cuda:0', grad_fn=<NllLossBackward0>)\n",
      "19500 tensor(4.8491, device='cuda:0', grad_fn=<NllLossBackward0>)\n",
      "19600 tensor(4.8090, device='cuda:0', grad_fn=<NllLossBackward0>)\n",
      "19700 tensor(4.8912, device='cuda:0', grad_fn=<NllLossBackward0>)\n",
      "Epoch 24: Train Loss = 4.8571, Val Loss = 5.2322\n",
      "Validation loss improved. Saving model...\n",
      "19800 tensor(4.8950, device='cuda:0', grad_fn=<NllLossBackward0>)\n",
      "19900 tensor(4.8580, device='cuda:0', grad_fn=<NllLossBackward0>)\n",
      "20000 tensor(4.8368, device='cuda:0', grad_fn=<NllLossBackward0>)\n",
      "20100 tensor(4.7991, device='cuda:0', grad_fn=<NllLossBackward0>)\n",
      "20200 tensor(4.8358, device='cuda:0', grad_fn=<NllLossBackward0>)\n",
      "20300 tensor(4.8757, device='cuda:0', grad_fn=<NllLossBackward0>)\n",
      "20400 tensor(4.8030, device='cuda:0', grad_fn=<NllLossBackward0>)\n",
      "20500 tensor(4.8071, device='cuda:0', grad_fn=<NllLossBackward0>)\n",
      "Epoch 25: Train Loss = 4.8401, Val Loss = 5.2250\n",
      "Validation loss improved. Saving model...\n",
      "20600 tensor(4.8014, device='cuda:0', grad_fn=<NllLossBackward0>)\n",
      "20700 tensor(4.8437, device='cuda:0', grad_fn=<NllLossBackward0>)\n",
      "20800 tensor(4.8857, device='cuda:0', grad_fn=<NllLossBackward0>)\n",
      "20900 tensor(4.8282, device='cuda:0', grad_fn=<NllLossBackward0>)\n",
      "21000 tensor(4.8011, device='cuda:0', grad_fn=<NllLossBackward0>)\n",
      "21100 tensor(4.8289, device='cuda:0', grad_fn=<NllLossBackward0>)\n",
      "21200 tensor(4.8490, device='cuda:0', grad_fn=<NllLossBackward0>)\n",
      "21300 tensor(4.8521, device='cuda:0', grad_fn=<NllLossBackward0>)\n",
      "Epoch 26: Train Loss = 4.8235, Val Loss = 5.2180\n",
      "Validation loss improved. Saving model...\n",
      "21400 tensor(4.7389, device='cuda:0', grad_fn=<NllLossBackward0>)\n",
      "21500 tensor(4.8146, device='cuda:0', grad_fn=<NllLossBackward0>)\n",
      "21600 tensor(4.8447, device='cuda:0', grad_fn=<NllLossBackward0>)\n",
      "21700 tensor(4.8197, device='cuda:0', grad_fn=<NllLossBackward0>)\n",
      "21800 tensor(4.8254, device='cuda:0', grad_fn=<NllLossBackward0>)\n",
      "21900 tensor(4.7586, device='cuda:0', grad_fn=<NllLossBackward0>)\n",
      "22000 tensor(4.8299, device='cuda:0', grad_fn=<NllLossBackward0>)\n",
      "22100 tensor(4.8057, device='cuda:0', grad_fn=<NllLossBackward0>)\n",
      "Epoch 27: Train Loss = 4.8073, Val Loss = 5.2113\n",
      "Validation loss improved. Saving model...\n",
      "22200 tensor(4.7971, device='cuda:0', grad_fn=<NllLossBackward0>)\n",
      "22300 tensor(4.8117, device='cuda:0', grad_fn=<NllLossBackward0>)\n",
      "22400 tensor(4.8043, device='cuda:0', grad_fn=<NllLossBackward0>)\n",
      "22500 tensor(4.8198, device='cuda:0', grad_fn=<NllLossBackward0>)\n",
      "22600 tensor(4.8354, device='cuda:0', grad_fn=<NllLossBackward0>)\n",
      "22700 tensor(4.7886, device='cuda:0', grad_fn=<NllLossBackward0>)\n",
      "22800 tensor(4.8513, device='cuda:0', grad_fn=<NllLossBackward0>)\n",
      "22900 tensor(4.8657, device='cuda:0', grad_fn=<NllLossBackward0>)\n",
      "Epoch 28: Train Loss = 4.7915, Val Loss = 5.2048\n",
      "Validation loss improved. Saving model...\n",
      "23000 tensor(4.7355, device='cuda:0', grad_fn=<NllLossBackward0>)\n",
      "23100 tensor(4.7553, device='cuda:0', grad_fn=<NllLossBackward0>)\n",
      "23200 tensor(4.8469, device='cuda:0', grad_fn=<NllLossBackward0>)\n",
      "23300 tensor(4.7813, device='cuda:0', grad_fn=<NllLossBackward0>)\n",
      "23400 tensor(4.7824, device='cuda:0', grad_fn=<NllLossBackward0>)\n",
      "23500 tensor(4.7858, device='cuda:0', grad_fn=<NllLossBackward0>)\n",
      "23600 tensor(4.7250, device='cuda:0', grad_fn=<NllLossBackward0>)\n",
      "23700 tensor(4.7828, device='cuda:0', grad_fn=<NllLossBackward0>)\n",
      "Epoch 29: Train Loss = 4.7761, Val Loss = 5.1986\n",
      "Validation loss improved. Saving model...\n",
      "23800 tensor(4.7585, device='cuda:0', grad_fn=<NllLossBackward0>)\n",
      "23900 tensor(4.8174, device='cuda:0', grad_fn=<NllLossBackward0>)\n",
      "24000 tensor(4.8395, device='cuda:0', grad_fn=<NllLossBackward0>)\n",
      "24100 tensor(4.7906, device='cuda:0', grad_fn=<NllLossBackward0>)\n",
      "24200 tensor(4.7897, device='cuda:0', grad_fn=<NllLossBackward0>)\n",
      "24300 tensor(4.7645, device='cuda:0', grad_fn=<NllLossBackward0>)\n",
      "24400 tensor(4.7048, device='cuda:0', grad_fn=<NllLossBackward0>)\n",
      "24500 tensor(4.7906, device='cuda:0', grad_fn=<NllLossBackward0>)\n",
      "Epoch 30: Train Loss = 4.7610, Val Loss = 5.1925\n",
      "Validation loss improved. Saving model...\n",
      "24600 tensor(4.6845, device='cuda:0', grad_fn=<NllLossBackward0>)\n",
      "24700 tensor(4.7756, device='cuda:0', grad_fn=<NllLossBackward0>)\n",
      "24800 tensor(4.6622, device='cuda:0', grad_fn=<NllLossBackward0>)\n",
      "24900 tensor(4.7735, device='cuda:0', grad_fn=<NllLossBackward0>)\n",
      "25000 tensor(4.7230, device='cuda:0', grad_fn=<NllLossBackward0>)\n",
      "25100 tensor(4.7723, device='cuda:0', grad_fn=<NllLossBackward0>)\n",
      "25200 tensor(4.7481, device='cuda:0', grad_fn=<NllLossBackward0>)\n",
      "25300 tensor(4.7136, device='cuda:0', grad_fn=<NllLossBackward0>)\n",
      "Epoch 31: Train Loss = 4.7463, Val Loss = 5.1867\n",
      "Validation loss improved. Saving model...\n",
      "25400 tensor(4.6981, device='cuda:0', grad_fn=<NllLossBackward0>)\n",
      "25500 tensor(4.7011, device='cuda:0', grad_fn=<NllLossBackward0>)\n",
      "25600 tensor(4.7736, device='cuda:0', grad_fn=<NllLossBackward0>)\n",
      "25700 tensor(4.7134, device='cuda:0', grad_fn=<NllLossBackward0>)\n",
      "25800 tensor(4.7896, device='cuda:0', grad_fn=<NllLossBackward0>)\n",
      "25900 tensor(4.8251, device='cuda:0', grad_fn=<NllLossBackward0>)\n",
      "26000 tensor(4.6868, device='cuda:0', grad_fn=<NllLossBackward0>)\n",
      "26100 tensor(4.7671, device='cuda:0', grad_fn=<NllLossBackward0>)\n",
      "Epoch 32: Train Loss = 4.7319, Val Loss = 5.1811\n",
      "Validation loss improved. Saving model...\n",
      "26200 tensor(4.7246, device='cuda:0', grad_fn=<NllLossBackward0>)\n",
      "26300 tensor(4.6799, device='cuda:0', grad_fn=<NllLossBackward0>)\n",
      "26400 tensor(4.7709, device='cuda:0', grad_fn=<NllLossBackward0>)\n",
      "26500 tensor(4.7356, device='cuda:0', grad_fn=<NllLossBackward0>)\n",
      "26600 tensor(4.7116, device='cuda:0', grad_fn=<NllLossBackward0>)\n",
      "26700 tensor(4.7140, device='cuda:0', grad_fn=<NllLossBackward0>)\n",
      "26800 tensor(4.7045, device='cuda:0', grad_fn=<NllLossBackward0>)\n",
      "26900 tensor(4.6736, device='cuda:0', grad_fn=<NllLossBackward0>)\n",
      "Epoch 33: Train Loss = 4.7177, Val Loss = 5.1756\n",
      "Validation loss improved. Saving model...\n",
      "27000 tensor(4.6946, device='cuda:0', grad_fn=<NllLossBackward0>)\n",
      "27100 tensor(4.7034, device='cuda:0', grad_fn=<NllLossBackward0>)\n",
      "27200 tensor(4.6918, device='cuda:0', grad_fn=<NllLossBackward0>)\n",
      "27300 tensor(4.6862, device='cuda:0', grad_fn=<NllLossBackward0>)\n",
      "27400 tensor(4.7691, device='cuda:0', grad_fn=<NllLossBackward0>)\n",
      "27500 tensor(4.6764, device='cuda:0', grad_fn=<NllLossBackward0>)\n",
      "27600 tensor(4.8038, device='cuda:0', grad_fn=<NllLossBackward0>)\n",
      "27700 tensor(4.6969, device='cuda:0', grad_fn=<NllLossBackward0>)\n",
      "Epoch 34: Train Loss = 4.7039, Val Loss = 5.1703\n",
      "Validation loss improved. Saving model...\n",
      "27800 tensor(4.7056, device='cuda:0', grad_fn=<NllLossBackward0>)\n",
      "27900 tensor(4.6678, device='cuda:0', grad_fn=<NllLossBackward0>)\n",
      "28000 tensor(4.6770, device='cuda:0', grad_fn=<NllLossBackward0>)\n",
      "28100 tensor(4.7109, device='cuda:0', grad_fn=<NllLossBackward0>)\n",
      "28200 tensor(4.6980, device='cuda:0', grad_fn=<NllLossBackward0>)\n",
      "28300 tensor(4.7532, device='cuda:0', grad_fn=<NllLossBackward0>)\n",
      "28400 tensor(4.7011, device='cuda:0', grad_fn=<NllLossBackward0>)\n",
      "28500 tensor(4.6678, device='cuda:0', grad_fn=<NllLossBackward0>)\n",
      "Epoch 35: Train Loss = 4.6903, Val Loss = 5.1652\n",
      "Validation loss improved. Saving model...\n",
      "28600 tensor(4.7367, device='cuda:0', grad_fn=<NllLossBackward0>)\n",
      "28700 tensor(4.6954, device='cuda:0', grad_fn=<NllLossBackward0>)\n",
      "28800 tensor(4.7084, device='cuda:0', grad_fn=<NllLossBackward0>)\n",
      "28900 tensor(4.7275, device='cuda:0', grad_fn=<NllLossBackward0>)\n",
      "29000 tensor(4.7301, device='cuda:0', grad_fn=<NllLossBackward0>)\n",
      "29100 tensor(4.6528, device='cuda:0', grad_fn=<NllLossBackward0>)\n",
      "29200 tensor(4.6618, device='cuda:0', grad_fn=<NllLossBackward0>)\n",
      "29300 tensor(4.7187, device='cuda:0', grad_fn=<NllLossBackward0>)\n",
      "Epoch 36: Train Loss = 4.6769, Val Loss = 5.1603\n",
      "Validation loss improved. Saving model...\n",
      "29400 tensor(4.6656, device='cuda:0', grad_fn=<NllLossBackward0>)\n",
      "29500 tensor(4.6483, device='cuda:0', grad_fn=<NllLossBackward0>)\n",
      "29600 tensor(4.7053, device='cuda:0', grad_fn=<NllLossBackward0>)\n",
      "29700 tensor(4.7155, device='cuda:0', grad_fn=<NllLossBackward0>)\n",
      "29800 tensor(4.6603, device='cuda:0', grad_fn=<NllLossBackward0>)\n",
      "29900 tensor(4.6354, device='cuda:0', grad_fn=<NllLossBackward0>)\n",
      "30000 tensor(4.6967, device='cuda:0', grad_fn=<NllLossBackward0>)\n",
      "Epoch 37: Train Loss = 4.6638, Val Loss = 5.1556\n",
      "Validation loss improved. Saving model...\n",
      "30100 tensor(4.6838, device='cuda:0', grad_fn=<NllLossBackward0>)\n",
      "30200 tensor(4.6283, device='cuda:0', grad_fn=<NllLossBackward0>)\n",
      "30300 tensor(4.6433, device='cuda:0', grad_fn=<NllLossBackward0>)\n",
      "30400 tensor(4.6393, device='cuda:0', grad_fn=<NllLossBackward0>)\n",
      "30500 tensor(4.6000, device='cuda:0', grad_fn=<NllLossBackward0>)\n",
      "30600 tensor(4.6062, device='cuda:0', grad_fn=<NllLossBackward0>)\n",
      "30700 tensor(4.6236, device='cuda:0', grad_fn=<NllLossBackward0>)\n",
      "30800 tensor(4.6747, device='cuda:0', grad_fn=<NllLossBackward0>)\n",
      "Epoch 38: Train Loss = 4.6509, Val Loss = 5.1510\n",
      "Validation loss improved. Saving model...\n",
      "30900 tensor(4.6640, device='cuda:0', grad_fn=<NllLossBackward0>)\n",
      "31000 tensor(4.6552, device='cuda:0', grad_fn=<NllLossBackward0>)\n",
      "31100 tensor(4.6699, device='cuda:0', grad_fn=<NllLossBackward0>)\n",
      "31200 tensor(4.6336, device='cuda:0', grad_fn=<NllLossBackward0>)\n",
      "31300 tensor(4.6195, device='cuda:0', grad_fn=<NllLossBackward0>)\n",
      "31400 tensor(4.6622, device='cuda:0', grad_fn=<NllLossBackward0>)\n",
      "31500 tensor(4.5882, device='cuda:0', grad_fn=<NllLossBackward0>)\n",
      "31600 tensor(4.6196, device='cuda:0', grad_fn=<NllLossBackward0>)\n",
      "Epoch 39: Train Loss = 4.6383, Val Loss = 5.1465\n",
      "Validation loss improved. Saving model...\n",
      "31700 tensor(4.6423, device='cuda:0', grad_fn=<NllLossBackward0>)\n",
      "31800 tensor(4.6581, device='cuda:0', grad_fn=<NllLossBackward0>)\n",
      "31900 tensor(4.6623, device='cuda:0', grad_fn=<NllLossBackward0>)\n",
      "32000 tensor(4.6216, device='cuda:0', grad_fn=<NllLossBackward0>)\n",
      "32100 tensor(4.6296, device='cuda:0', grad_fn=<NllLossBackward0>)\n",
      "32200 tensor(4.6272, device='cuda:0', grad_fn=<NllLossBackward0>)\n",
      "32300 tensor(4.6543, device='cuda:0', grad_fn=<NllLossBackward0>)\n",
      "32400 tensor(4.6765, device='cuda:0', grad_fn=<NllLossBackward0>)\n",
      "Epoch 40: Train Loss = 4.6258, Val Loss = 5.1422\n",
      "Validation loss improved. Saving model...\n",
      "32500 tensor(4.5743, device='cuda:0', grad_fn=<NllLossBackward0>)\n",
      "32600 tensor(4.5726, device='cuda:0', grad_fn=<NllLossBackward0>)\n",
      "32700 tensor(4.5141, device='cuda:0', grad_fn=<NllLossBackward0>)\n",
      "32800 tensor(4.5724, device='cuda:0', grad_fn=<NllLossBackward0>)\n",
      "32900 tensor(4.6092, device='cuda:0', grad_fn=<NllLossBackward0>)\n",
      "33000 tensor(4.5850, device='cuda:0', grad_fn=<NllLossBackward0>)\n",
      "33100 tensor(4.6714, device='cuda:0', grad_fn=<NllLossBackward0>)\n",
      "33200 tensor(4.6338, device='cuda:0', grad_fn=<NllLossBackward0>)\n",
      "Epoch 41: Train Loss = 4.6136, Val Loss = 5.1381\n",
      "Validation loss improved. Saving model...\n",
      "33300 tensor(4.5783, device='cuda:0', grad_fn=<NllLossBackward0>)\n",
      "33400 tensor(4.5701, device='cuda:0', grad_fn=<NllLossBackward0>)\n",
      "33500 tensor(4.6193, device='cuda:0', grad_fn=<NllLossBackward0>)\n",
      "33600 tensor(4.6058, device='cuda:0', grad_fn=<NllLossBackward0>)\n",
      "33700 tensor(4.6381, device='cuda:0', grad_fn=<NllLossBackward0>)\n",
      "33800 tensor(4.6302, device='cuda:0', grad_fn=<NllLossBackward0>)\n",
      "33900 tensor(4.6481, device='cuda:0', grad_fn=<NllLossBackward0>)\n",
      "34000 tensor(4.5919, device='cuda:0', grad_fn=<NllLossBackward0>)\n",
      "Epoch 42: Train Loss = 4.6015, Val Loss = 5.1341\n",
      "Validation loss improved. Saving model...\n",
      "34100 tensor(4.6205, device='cuda:0', grad_fn=<NllLossBackward0>)\n",
      "34200 tensor(4.6200, device='cuda:0', grad_fn=<NllLossBackward0>)\n",
      "34300 tensor(4.5386, device='cuda:0', grad_fn=<NllLossBackward0>)\n",
      "34400 tensor(4.4961, device='cuda:0', grad_fn=<NllLossBackward0>)\n",
      "34500 tensor(4.5542, device='cuda:0', grad_fn=<NllLossBackward0>)\n",
      "34600 tensor(4.5433, device='cuda:0', grad_fn=<NllLossBackward0>)\n",
      "34700 tensor(4.5982, device='cuda:0', grad_fn=<NllLossBackward0>)\n",
      "34800 tensor(4.5762, device='cuda:0', grad_fn=<NllLossBackward0>)\n",
      "Epoch 43: Train Loss = 4.5896, Val Loss = 5.1303\n",
      "Validation loss improved. Saving model...\n",
      "34900 tensor(4.6076, device='cuda:0', grad_fn=<NllLossBackward0>)\n",
      "35000 tensor(4.5919, device='cuda:0', grad_fn=<NllLossBackward0>)\n",
      "35100 tensor(4.6264, device='cuda:0', grad_fn=<NllLossBackward0>)\n",
      "35200 tensor(4.5114, device='cuda:0', grad_fn=<NllLossBackward0>)\n",
      "35300 tensor(4.5812, device='cuda:0', grad_fn=<NllLossBackward0>)\n",
      "35400 tensor(4.5827, device='cuda:0', grad_fn=<NllLossBackward0>)\n",
      "35500 tensor(4.6063, device='cuda:0', grad_fn=<NllLossBackward0>)\n",
      "35600 tensor(4.5615, device='cuda:0', grad_fn=<NllLossBackward0>)\n",
      "Epoch 44: Train Loss = 4.5779, Val Loss = 5.1266\n",
      "Validation loss improved. Saving model...\n",
      "35700 tensor(4.5671, device='cuda:0', grad_fn=<NllLossBackward0>)\n",
      "35800 tensor(4.6083, device='cuda:0', grad_fn=<NllLossBackward0>)\n",
      "35900 tensor(4.5552, device='cuda:0', grad_fn=<NllLossBackward0>)\n",
      "36000 tensor(4.5648, device='cuda:0', grad_fn=<NllLossBackward0>)\n",
      "36100 tensor(4.5334, device='cuda:0', grad_fn=<NllLossBackward0>)\n",
      "36200 tensor(4.5482, device='cuda:0', grad_fn=<NllLossBackward0>)\n",
      "36300 tensor(4.5658, device='cuda:0', grad_fn=<NllLossBackward0>)\n",
      "36400 tensor(4.5777, device='cuda:0', grad_fn=<NllLossBackward0>)\n",
      "Epoch 45: Train Loss = 4.5664, Val Loss = 5.1230\n",
      "Validation loss improved. Saving model...\n",
      "36500 tensor(4.5516, device='cuda:0', grad_fn=<NllLossBackward0>)\n",
      "36600 tensor(4.5885, device='cuda:0', grad_fn=<NllLossBackward0>)\n",
      "36700 tensor(4.5996, device='cuda:0', grad_fn=<NllLossBackward0>)\n",
      "36800 tensor(4.5673, device='cuda:0', grad_fn=<NllLossBackward0>)\n",
      "36900 tensor(4.4454, device='cuda:0', grad_fn=<NllLossBackward0>)\n",
      "37000 tensor(4.5550, device='cuda:0', grad_fn=<NllLossBackward0>)\n",
      "37100 tensor(4.5746, device='cuda:0', grad_fn=<NllLossBackward0>)\n",
      "37200 tensor(4.5256, device='cuda:0', grad_fn=<NllLossBackward0>)\n",
      "Epoch 46: Train Loss = 4.5551, Val Loss = 5.1196\n",
      "Validation loss improved. Saving model...\n",
      "37300 tensor(4.5455, device='cuda:0', grad_fn=<NllLossBackward0>)\n",
      "37400 tensor(4.5089, device='cuda:0', grad_fn=<NllLossBackward0>)\n",
      "37500 tensor(4.5486, device='cuda:0', grad_fn=<NllLossBackward0>)\n",
      "37600 tensor(4.5723, device='cuda:0', grad_fn=<NllLossBackward0>)\n",
      "37700 tensor(4.5083, device='cuda:0', grad_fn=<NllLossBackward0>)\n",
      "37800 tensor(4.5732, device='cuda:0', grad_fn=<NllLossBackward0>)\n",
      "37900 tensor(4.5630, device='cuda:0', grad_fn=<NllLossBackward0>)\n",
      "38000 tensor(4.5237, device='cuda:0', grad_fn=<NllLossBackward0>)\n",
      "Epoch 47: Train Loss = 4.5439, Val Loss = 5.1163\n",
      "Validation loss improved. Saving model...\n",
      "38100 tensor(4.5620, device='cuda:0', grad_fn=<NllLossBackward0>)\n",
      "38200 tensor(4.5244, device='cuda:0', grad_fn=<NllLossBackward0>)\n",
      "38300 tensor(4.4901, device='cuda:0', grad_fn=<NllLossBackward0>)\n",
      "38400 tensor(4.5096, device='cuda:0', grad_fn=<NllLossBackward0>)\n",
      "38500 tensor(4.5260, device='cuda:0', grad_fn=<NllLossBackward0>)\n",
      "38600 tensor(4.5519, device='cuda:0', grad_fn=<NllLossBackward0>)\n",
      "38700 tensor(4.5358, device='cuda:0', grad_fn=<NllLossBackward0>)\n",
      "38800 tensor(4.5323, device='cuda:0', grad_fn=<NllLossBackward0>)\n",
      "Epoch 48: Train Loss = 4.5329, Val Loss = 5.1131\n",
      "Validation loss improved. Saving model...\n",
      "38900 tensor(4.4758, device='cuda:0', grad_fn=<NllLossBackward0>)\n",
      "39000 tensor(4.4786, device='cuda:0', grad_fn=<NllLossBackward0>)\n",
      "39100 tensor(4.5392, device='cuda:0', grad_fn=<NllLossBackward0>)\n",
      "39200 tensor(4.4614, device='cuda:0', grad_fn=<NllLossBackward0>)\n",
      "39300 tensor(4.5137, device='cuda:0', grad_fn=<NllLossBackward0>)\n",
      "39400 tensor(4.4877, device='cuda:0', grad_fn=<NllLossBackward0>)\n",
      "39500 tensor(4.5539, device='cuda:0', grad_fn=<NllLossBackward0>)\n",
      "Epoch 49: Train Loss = 4.5220, Val Loss = 5.1100\n",
      "Validation loss improved. Saving model...\n"
     ]
    }
   ],
   "execution_count": 24
  },
  {
   "metadata": {},
   "cell_type": "markdown",
   "source": "### Learning curve",
   "id": "45c1b9220d02bb40"
  },
  {
   "metadata": {
    "ExecuteTime": {
     "end_time": "2025-05-02T16:03:30.157040Z",
     "start_time": "2025-05-02T16:03:29.346266Z"
    }
   },
   "cell_type": "code",
   "source": [
    "import matplotlib.pyplot as plt\n",
    "\n",
    "plt.plot(train_losses, label='Train Loss')\n",
    "plt.plot(valid_losses, label='Val Loss')\n",
    "plt.legend()\n",
    "plt.show()"
   ],
   "id": "f64c42e0dcad0d69",
   "outputs": [
    {
     "data": {
      "text/plain": [
       "<Figure size 640x480 with 1 Axes>"
      ],
      "image/png": "[encoded data removed]"
     },
     "metadata": {},
     "output_type": "display_data"
    }
   ],
   "execution_count": 25
  },
  {
   "metadata": {},
   "cell_type": "markdown",
   "source": "### Using the trained model for predictions",
   "id": "6cd05b2f9ea2d7e1"
  },
  {
   "metadata": {
    "ExecuteTime": {
     "end_time": "2025-05-02T16:03:30.429472Z",
     "start_time": "2025-05-02T16:03:30.163556Z"
    }
   },
   "cell_type": "code",
   "source": [
    "model_final = SimpleNeuralLM(vocab_size, embed_size, CONTEXT_SIZE)\n",
    "model_final.load_state_dict(torch.load(\"model_best.bin\", weights_only=True))"
   ],
   "id": "329e73ef7822c80a",
   "outputs": [
    {
     "data": {
      "text/plain": [
       "<All keys matched successfully>"
      ]
     },
     "execution_count": 26,
     "metadata": {},
     "output_type": "execute_result"
    }
   ],
   "execution_count": 26
  },
  {
   "metadata": {
    "ExecuteTime": {
     "end_time": "2025-05-02T16:03:30.493975Z",
     "start_time": "2025-05-02T16:03:30.480125Z"
    }
   },
   "cell_type": "code",
   "source": [
    "def get_predictions(ctx):\n",
    "    model_input = torch.tensor([[vocab[x] for x in ctx]])\n",
    "    model_output = model_final(model_input)\n",
    "    top_indices = model_output.topk(5).indices[0].tolist()\n",
    "    return vocab.lookup_tokens(top_indices)\n",
    "\n",
    "get_predictions(['my', 'name', 'is', 'sherlock'])"
   ],
   "id": "2ff321fb6081ac7f",
   "outputs": [
    {
     "data": {
      "text/plain": [
       "[',', 'holmes', '.', 'not', '?']"
      ]
     },
     "execution_count": 27,
     "metadata": {},
     "output_type": "execute_result"
    }
   ],
   "execution_count": 27
  },
  {
   "metadata": {
    "ExecuteTime": {
     "end_time": "2025-05-02T16:03:30.553067Z",
     "start_time": "2025-05-02T16:03:30.540173Z"
    }
   },
   "cell_type": "code",
   "source": "get_predictions(['is', 'the', 'count', 'of'])",
   "id": "677566c5f0d23931",
   "outputs": [
    {
     "data": {
      "text/plain": [
       "['monte', 'morcerf', 'the', 'a', '<unk>']"
      ]
     },
     "execution_count": 28,
     "metadata": {},
     "output_type": "execute_result"
    }
   ],
   "execution_count": 28
  },
  {
   "metadata": {
    "ExecuteTime": {
     "end_time": "2025-05-02T16:03:30.655478Z",
     "start_time": "2025-05-02T16:03:30.643178Z"
    }
   },
   "cell_type": "code",
   "source": "get_predictions(['the', 'count', 'of', 'monte'])",
   "id": "1d9a89981e12fa64",
   "outputs": [
    {
     "data": {
      "text/plain": [
       "['cristo', 'cristo.', 'monte', 'morcerf', 'the']"
      ]
     },
     "execution_count": 29,
     "metadata": {},
     "output_type": "execute_result"
    }
   ],
   "execution_count": 29
  },
  {
   "metadata": {
    "ExecuteTime": {
     "end_time": "2025-05-02T16:03:30.677236Z",
     "start_time": "2025-05-02T16:03:30.660488Z"
    }
   },
   "cell_type": "code",
   "source": "get_predictions([ 'i', 'wish', 'you', 'a'])",
   "id": "18b142b469686217",
   "outputs": [
    {
     "data": {
      "text/plain": [
       "['to', '<unk>', 'good', 'have', 'will']"
      ]
     },
     "execution_count": 30,
     "metadata": {},
     "output_type": "execute_result"
    }
   ],
   "execution_count": 30
  },
  {
   "metadata": {
    "ExecuteTime": {
     "end_time": "2025-05-02T16:03:30.737665Z",
     "start_time": "2025-05-02T16:03:30.724943Z"
    }
   },
   "cell_type": "code",
   "source": "get_predictions(['do', 'you', 'know', 'how'])",
   "id": "383c91f9d6d9b101",
   "outputs": [
    {
     "data": {
      "text/plain": [
       "['that', '?', 'it', ',', 'i']"
      ]
     },
     "execution_count": 31,
     "metadata": {},
     "output_type": "execute_result"
    }
   ],
   "execution_count": 31
  },
  {
   "metadata": {
    "ExecuteTime": {
     "end_time": "2025-05-02T16:03:30.798511Z",
     "start_time": "2025-05-02T16:03:30.785538Z"
    }
   },
   "cell_type": "code",
   "source": "get_predictions([',', 'oh', 'my', 'god'])",
   "id": "61fdd1dad0075db4",
   "outputs": [
    {
     "data": {
      "text/plain": [
       "['!', ',', '’', 'lord', 'knows']"
      ]
     },
     "execution_count": 32,
     "metadata": {},
     "output_type": "execute_result"
    }
   ],
   "execution_count": 32
  },
  {
   "metadata": {
    "ExecuteTime": {
     "end_time": "2025-05-02T16:03:30.900010Z",
     "start_time": "2025-05-02T16:03:30.887916Z"
    }
   },
   "cell_type": "code",
   "source": "get_predictions(['may', 'he', 'rest', 'in'])",
   "id": "249a400a63cca57c",
   "outputs": [
    {
     "data": {
      "text/plain": [
       "['the', 'his', 'be', 'have', 'a']"
      ]
     },
     "execution_count": 33,
     "metadata": {},
     "output_type": "execute_result"
    }
   ],
   "execution_count": 33
  },
  {
   "metadata": {
    "ExecuteTime": {
     "end_time": "2025-05-02T16:03:31.145505Z",
     "start_time": "2025-05-02T16:03:31.142930Z"
    }
   },
   "cell_type": "code",
   "source": "",
   "id": "b743591af13edc93",
   "outputs": [],
   "execution_count": null
  }
 ],
 "metadata": {
  "kernelspec": {
   "display_name": "Python 3",
   "language": "python",
   "name": "python3"
  },
  "language_info": {
   "codemirror_mode": {
    "name": "ipython",
    "version": 2
   },
   "file_extension": ".py",
   "mimetype": "text/x-python",
   "name": "python",
   "nbconvert_exporter": "python",
   "pygments_lexer": "ipython2",
   "version": "2.7.6"
  }
 },
 "nbformat": 4,
 "nbformat_minor": 5
}
